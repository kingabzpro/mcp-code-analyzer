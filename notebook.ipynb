{
 "cells": [
  {
   "cell_type": "code",
   "execution_count": 1,
   "metadata": {},
   "outputs": [],
   "source": [
    "import json\n",
    "import os\n",
    "\n",
    "import anthropic\n",
    "\n",
    "\n",
    "def analyze_code_anthropic(code: str) -> dict:\n",
    "    \"\"\"\n",
    "    Analyzes code quality using Anthropic's Claude model.\n",
    "\n",
    "    Args:\n",
    "        code (str): The code string to analyze.\n",
    "\n",
    "    Returns:\n",
    "        dict: A dictionary containing code quality scores (0-100).\n",
    "    \"\"\"\n",
    "    if not code:\n",
    "        return {\n",
    "            \"vulnerability_score\": 0,\n",
    "            \"style_score\": 0,\n",
    "            \"quality_score\": 0,\n",
    "        }\n",
    "\n",
    "    try:\n",
    "        client = anthropic.Anthropic(api_key=os.environ.get(\"ANTHROPIC_API_KEY\"))\n",
    "\n",
    "        prompt = f\"\"\"Analyze the following code for vulnerabilities, style, and quality. \n",
    "        Provide scores from 0-100 for each category in this exact JSON format:\n",
    "        {{\n",
    "            \"vulnerability_score\": <number>,\n",
    "            \"style_score\": <number>,\n",
    "            \"quality_score\": <number>\n",
    "        }}\n",
    "\n",
    "        Code to analyze:\n",
    "        ```\n",
    "        {code}\n",
    "        ```\n",
    "        \"\"\"\n",
    "\n",
    "        response = client.messages.create(\n",
    "            model=\"claude-sonnet-4-20250514\",\n",
    "            max_tokens=1024,\n",
    "            messages=[{\"role\": \"user\", \"content\": prompt}],\n",
    "        )\n",
    "\n",
    "        result = json.loads(response.content[0].text)\n",
    "        return result\n",
    "\n",
    "    except Exception as e:\n",
    "        return {\n",
    "            \"vulnerability_score\": 0,\n",
    "            \"style_score\": 0,\n",
    "            \"quality_score\": 0,\n",
    "            \"error\": f\"Anthropic API error: {str(e)}\",\n",
    "        }\n"
   ]
  },
  {
   "cell_type": "code",
   "execution_count": 3,
   "metadata": {},
   "outputs": [],
   "source": [
    "code = \"\"\"\n",
    "import json\n",
    "import os\n",
    "\n",
    "import anthropic\n",
    "from mistralai import Mistral\n",
    "from openai import OpenAI\n",
    "\n",
    "\n",
    "def create_code_score(code: str) -> dict:\n",
    "    if not code:\n",
    "        return {\n",
    "            \"vulnerability_score\": 0,\n",
    "            \"style_score\": 0,\n",
    "            \"quality_score\": 0,\n",
    "        }\n",
    "\n",
    "    try:\n",
    "        # Initialize AI clients\n",
    "        anthropic_client = anthropic.Anthropic(\n",
    "            api_key=os.environ.get(\"ANTHROPIC_API_KEY\")\n",
    "        )\n",
    "        mistral_client = Mistral(api_key=os.environ.get(\"MISTRAL_API_KEY\"))\n",
    "        openai_client = OpenAI(api_key=os.environ.get(\"OPENAI_API_KEY\"))\n",
    "    except Exception as e:\n",
    "        return {\n",
    "            \"vulnerability_score\": 0,\n",
    "            \"style_score\": 0,\n",
    "            \"quality_score\": 0,\n",
    "        }\n",
    "\"\"\""
   ]
  },
  {
   "cell_type": "code",
   "execution_count": 4,
   "metadata": {},
   "outputs": [
    {
     "data": {
      "text/plain": [
       "{'vulnerability_score': 0,\n",
       " 'style_score': 0,\n",
       " 'quality_score': 0,\n",
       " 'error': 'Anthropic API error: Expecting value: line 1 column 1 (char 0)'}"
      ]
     },
     "execution_count": 4,
     "metadata": {},
     "output_type": "execute_result"
    }
   ],
   "source": [
    "analyze_code_anthropic(code)\n"
   ]
  },
  {
   "cell_type": "code",
   "execution_count": null,
   "metadata": {},
   "outputs": [
    {
     "data": {
      "text/plain": [
       "'Looking at this code snippet, I\\'ll analyze it across the three requested categories:\\n\\n## Vulnerability Analysis\\n- **Missing API key validation**: The code retrieves API keys from environment variables but doesn\\'t validate they exist before using them, which could lead to runtime errors\\n- **Broad exception handling**: The generic `except Exception as e:` catches all exceptions but doesn\\'t log or handle them appropriately, potentially masking important errors\\n- **No input validation**: While there\\'s a basic empty string check, there\\'s no validation for code content type or size limits\\n- **Potential resource leaks**: Multiple AI clients are initialized but the code doesn\\'t show proper cleanup or resource management\\n\\n## Style Analysis\\n- **Good**: Follows PEP 8 naming conventions and has type hints\\n- **Good**: Clear function name and reasonable structure\\n- **Issues**: \\n  - Inconsistent spacing around imports (missing blank line separation)\\n  - The broad exception handling is not pythonic\\n  - Magic numbers in return dictionaries could be constants\\n  - Missing docstring for the function\\n\\n## Quality Analysis\\n- **Incomplete functionality**: The function is clearly unfinished - it initializes clients but doesn\\'t use them\\n- **Poor error handling**: Returns zeros for all scores on any error without indication of what went wrong\\n- **No logging**: No way to debug issues when they occur\\n- **Unclear requirements**: The function signature suggests it should analyze code but the implementation is incomplete\\n- **Resource inefficiency**: Creates multiple AI clients that aren\\'t used\\n\\n```json\\n{\\n    \"vulnerability_score\": 25,\\n    \"style_score\": 65,\\n    \"quality_score\": 20\\n}\\n```'"
      ]
     },
     "execution_count": 6,
     "metadata": {},
     "output_type": "execute_result"
    }
   ],
   "source": [
    "client = anthropic.Anthropic(api_key=os.environ.get(\"ANTHROPIC_API_KEY\"))\n",
    "\n",
    "prompt = f\"\"\"\n",
    "Analyze the following code for vulnerabilities, style, and quality. \n",
    "Provide scores from 0-100 for each category in this exact JSON format:\n",
    "    \"vulnerability_score\": <number>,\n",
    "    \"style_score\": <number>,\n",
    "    \"quality_score\": <number>\n",
    "Code to analyze:\n",
    "```\n",
    "{code}\n",
    "```\n",
    "\"\"\"\n",
    "\n",
    "response = client.messages.create(\n",
    "    model=\"claude-sonnet-4-20250514\",\n",
    "    max_tokens=1024,\n",
    "    messages=[{\"role\": \"user\", \"content\": prompt}],\n",
    "    \n",
    ")\n",
    "\n",
    "response.content[0].text"
   ]
  }
 ],
 "metadata": {
  "kernelspec": {
   "display_name": ".venv",
   "language": "python",
   "name": "python3"
  },
  "language_info": {
   "codemirror_mode": {
    "name": "ipython",
    "version": 3
   },
   "file_extension": ".py",
   "mimetype": "text/x-python",
   "name": "python",
   "nbconvert_exporter": "python",
   "pygments_lexer": "ipython3",
   "version": "3.12.3"
  }
 },
 "nbformat": 4,
 "nbformat_minor": 2
}
